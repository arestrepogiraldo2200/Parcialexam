{
 "cells": [
  {
   "cell_type": "markdown",
   "metadata": {},
   "source": [
    "# Elementos del parcial\n",
    "    "
   ]
  },
  {
   "cell_type": "code",
   "execution_count": 2,
   "metadata": {},
   "outputs": [
    {
     "name": "stdout",
     "output_type": "stream",
     "text": [
      "[1, 1.9, 2.1, 3, 3.5, 4.5, 5, 6.7, 8.9]\n",
      "[34, 29, 67, 45, 36, 18, 90, 37, 24]\n",
      "[] []\n"
     ]
    }
   ],
   "source": [
    "#Ordenar dos listas\n",
    "\n",
    "x=[1,3,2.1,4.5,6.7,8.9,5,3.5,1.9]\n",
    "y=[34,45,67,18,37,24,90,36,29]\n",
    "\n",
    "xord=[]\n",
    "yord=[]\n",
    "\n",
    "for i in range(0,len(x)):\n",
    "    a=min(x)\n",
    "    xord.append(a)\n",
    "        \n",
    "    for j in range(0,len(x)):\n",
    "        if x[j]==a:\n",
    "            yord.append(y[j])\n",
    "            y.remove(y[j])\n",
    "        \n",
    "    x.remove(a)\n",
    "    \n",
    "print(xord)\n",
    "print(yord)\n",
    "print(x,y)"
   ]
  },
  {
   "cell_type": "code",
   "execution_count": 3,
   "metadata": {},
   "outputs": [
    {
     "name": "stdout",
     "output_type": "stream",
     "text": [
      "-2.939181015330939\n",
      "1.0546624079052611\n"
     ]
    }
   ],
   "source": [
    "#Método de Bisección\n",
    "\n",
    "import numpy as np\n",
    " \n",
    "def func(x):\n",
    "    val=np.sin(x)-np.cos(x)+np.tan(x)\n",
    "    return val\n",
    "\n",
    "def sign(x):\n",
    "    if x<0:\n",
    "        return -1\n",
    "    if x>0:\n",
    "        return 1\n",
    "    if x==0:\n",
    "        return 0\n",
    "    \n",
    "print(func(-1))\n",
    "print(func(4))"
   ]
  },
  {
   "cell_type": "code",
   "execution_count": 4,
   "metadata": {},
   "outputs": [
    {
     "name": "stdout",
     "output_type": "stream",
     "text": [
      "Raíz=0.4431436458108  F(R)=0.00000000007751\n"
     ]
    }
   ],
   "source": [
    "Tol=1e-10\n",
    "iter=0\n",
    "error=1.0\n",
    "x1=-1.0\n",
    "x2=4.0\n",
    "Nmax=2000\n",
    "\n",
    "\n",
    "while error>Tol:\n",
    "    mid=x1+abs((x1-x2)/2.0)\n",
    "    error=abs(func(mid))\n",
    "    if sign(func(mid))==sign(func(x1)):\n",
    "        x1=mid\n",
    "        x2=x2\n",
    "    \n",
    "    if sign(func(mid))==sign(func(x2)):\n",
    "        x2=mid\n",
    "        x1=x1\n",
    "    if sign(func(mid))==0:\n",
    "        print(\"Raíz: %f\"%mid)\n",
    "        break\n",
    "    iter=iter+1    \n",
    "    if iter>Nmax:\n",
    "        print(\"No se halló raíz\")\n",
    "        \n",
    "print(\"Raíz=%.13f  F(R)=%.14f\"%(mid,func(mid)))"
   ]
  },
  {
   "cell_type": "code",
   "execution_count": 5,
   "metadata": {},
   "outputs": [],
   "source": [
    "#Método de Newton-Raphson\n",
    "\n",
    "def func(x):\n",
    "    val=np.sin(x)-np.cos(x)+np.tan(x)-x\n",
    "    return val\n",
    "\n",
    "def dydx(x):\n",
    "    val=np.cos(x)+np.sin(x)+(1.0/np.cos(x)**2)-1.0\n",
    "    return val\n"
   ]
  },
  {
   "cell_type": "code",
   "execution_count": 6,
   "metadata": {},
   "outputs": [
    {
     "name": "stdout",
     "output_type": "stream",
     "text": [
      "1.0\n",
      "0.7744915865521881\n",
      "0.6950014844679736\n",
      "0.6897192910839034\n",
      "0.689699658075509\n",
      "0.6896996578071741\n",
      "Raíz=0.689700    F(R)=0.000000\n"
     ]
    }
   ],
   "source": [
    "#comentarios!!!!!!\n",
    "\n",
    "Tol=1e-10\n",
    "error=1.0\n",
    "iter=0\n",
    "Po=0.0\n",
    "Nmax=2000\n",
    "\n",
    "if dydx(Po)==0:\n",
    "    print(\"Método no concluyente\")\n",
    "\n",
    "else:\n",
    "    while error>Tol:\n",
    "    \n",
    "        P=-(func(Po)/dydx(Po))+Po\n",
    "        \n",
    "        error=abs(func(P))\n",
    "        \n",
    "        print(P)\n",
    "        \n",
    "        Po=P\n",
    "    \n",
    "        iter=iter+1\n",
    "    \n",
    "        if iter>Nmax:\n",
    "            print(\"No se pudo hallar raíz\")\n",
    "            break\n",
    "            \n",
    "print(\"Raíz=%f    F(R)=%f\" %(P,func(P)))\n"
   ]
  },
  {
   "cell_type": "code",
   "execution_count": 7,
   "metadata": {},
   "outputs": [
    {
     "name": "stdout",
     "output_type": "stream",
     "text": [
      "-2.859595599888695\n",
      "0.858576403594659\n"
     ]
    }
   ],
   "source": [
    "#Método de la secante\n",
    "def func(x):\n",
    "    val=np.sin(x)-np.cos(x)+np.tan(x)-x\n",
    "    return val\n",
    "\n",
    "print(func(2))\n",
    "print(func(1))"
   ]
  },
  {
   "cell_type": "code",
   "execution_count": 8,
   "metadata": {},
   "outputs": [
    {
     "name": "stdout",
     "output_type": "stream",
     "text": [
      "Raíz:0.689700     F(R):0.000000\n"
     ]
    }
   ],
   "source": [
    "#comentarios!!!!!!\n",
    "\n",
    "Tol=1e-10\n",
    "error=1.0\n",
    "iter=0\n",
    "Po=0.0\n",
    "P1=2.0\n",
    "Nmax=2000\n",
    "\n",
    "while error>Tol:\n",
    "    P=-(func(Po)*(P1-Po)/(func(P1)-func(Po)))+Po\n",
    "    error=abs(func(P))\n",
    "    \n",
    "    \n",
    "    Po=P1\n",
    "    P1=P\n",
    "    \n",
    "    iter=iter+1\n",
    "    if iter>Nmax:\n",
    "        print(\"No se pudo hallar raíz\")\n",
    "        break\n",
    "        \n",
    "print(\"Raíz:%f     F(R):%f\"%(P,func(P)))\n",
    "    \n",
    "    \n",
    "    "
   ]
  },
  {
   "cell_type": "code",
   "execution_count": 9,
   "metadata": {},
   "outputs": [],
   "source": [
    "#Falsa posición\n",
    "\n",
    "def func(x):\n",
    "    val=np.sin(x)-np.cos(x)+np.tan(x)-x+np.log(x)\n",
    "    return val\n",
    "\n",
    "def sign(x):\n",
    "    if x<0:\n",
    "        return -1\n",
    "    if x>0:\n",
    "        return 1\n",
    "    if x==0:\n",
    "        return 0"
   ]
  },
  {
   "cell_type": "code",
   "execution_count": 11,
   "metadata": {},
   "outputs": [
    {
     "name": "stdout",
     "output_type": "stream",
     "text": [
      "0.7744835382226134\n",
      "0.7908243726019913\n",
      "0.7924963922198326\n",
      "0.7926719958697238\n",
      "0.7926904874960047\n",
      "0.7926924352643093\n",
      "0.7926926404335172\n",
      "0.7926926620451912\n",
      "0.792692664321676\n",
      "0.7926926645614716\n",
      "0.7926926645867306\n",
      "Raíz=0.792693   F(R)=-0.000000\n"
     ]
    }
   ],
   "source": [
    "Tol=1e-10\n",
    "error=1.0\n",
    "Po=0.5\n",
    "P1=1.0\n",
    "Nmax=2000\n",
    "iter=0\n",
    "\n",
    "if func(Po)*func(P1)>0:\n",
    "    print(\"Método no concluyente\")\n",
    "else:\n",
    "    while error>Tol:\n",
    "        \n",
    "        P=-((func(Po)*(Po-P1))/(func(Po)-func(P1)))+Po\n",
    "        print(P)\n",
    "        error=abs(func(P))\n",
    "        \n",
    "        if sign(func(P))==0:\n",
    "            print(\"Raíz=%f   F(R)=%f\" %(P,func(P)))\n",
    "            break \n",
    "            \n",
    "        if sign(func(P))==sign(func(P1)):\n",
    "            P1=P\n",
    "            Po=Po\n",
    "        if sign(func(P))==sign(func(Po)):\n",
    "            Po=P\n",
    "            P1=P1\n",
    "            \n",
    "        iter=iter+1\n",
    "        \n",
    "        if iter>Nmax:\n",
    "            print(\"No se pudo hallar raíz\")\n",
    "            \n",
    "\n",
    "print(\"Raíz=%f   F(R)=%f\" %(P,func(P)))"
   ]
  },
  {
   "cell_type": "markdown",
   "metadata": {},
   "source": [
    "# Métodos de interpolación"
   ]
  },
  {
   "cell_type": "code",
   "execution_count": 5,
   "metadata": {},
   "outputs": [
    {
     "data": {
      "text/plain": [
       "<Figure size 640x480 with 1 Axes>"
      ]
     },
     "metadata": {},
     "output_type": "display_data"
    }
   ],
   "source": [
    "#Interpolación lineal\n",
    "\n",
    "import matplotlib.pyplot as plt\n",
    "\n",
    "x=[0,2,3,4,5,9,10]\n",
    "y=[13,2,34,57,6,32,45]\n",
    "\n",
    "def interplineal(x,y,u):\n",
    "    \n",
    "    for i in range(0,len(x)-1):\n",
    "        if x[i]<=u<=x[i+1]:\n",
    "            val=(u-x[i])*((y[i+1]-y[i])/(x[i+1]-x[i]))+y[i]\n",
    "            return val\n",
    "    \n",
    "valx=np.linspace(min(x),max(x),20000)\n",
    "valy=[]\n",
    "\n",
    "for i in range(0,len(valx)):\n",
    "    valy.append(interplineal(x,y,valx[i]))\n",
    "    \n",
    "plt.plot(x,y,'*')\n",
    "plt.plot(valx,valy)\n",
    "plt.show()\n",
    "\n"
   ]
  },
  {
   "cell_type": "code",
   "execution_count": 6,
   "metadata": {},
   "outputs": [
    {
     "data": {
      "image/png": "[encoded data removed]",
      "text/plain": [
       "<Figure size 432x288 with 1 Axes>"
      ]
     },
     "metadata": {},
     "output_type": "display_data"
    }
   ],
   "source": [
    "#Método de polinomios de Lagrange\n",
    "\n",
    "\n",
    "x=[0,2,3,4,5,9,10]\n",
    "y=[13,2,34,57,6,32,45]\n",
    "\n",
    "def Lagrange(x,y,u):\n",
    "    sum=0.0\n",
    "    for i in range(0,len(x)):\n",
    "        prod=1.0\n",
    "        for j in range(0,len(x)):\n",
    "            if j!=i:\n",
    "                prod=prod*((u-x[j])/(x[i]-x[j]))\n",
    "        sum=sum+prod*y[i]\n",
    "    return sum\n",
    "valx=np.linspace(min(x),max(x),20000)\n",
    "valy=[]\n",
    "\n",
    "for i in range(0,len(valx)):\n",
    "    valy.append(Lagrange(x,y,valx[i]))\n",
    "    \n",
    "plt.plot(x,y,'*')\n",
    "plt.plot(valx,valy)\n",
    "plt.show()"
   ]
  },
  {
   "cell_type": "code",
   "execution_count": 13,
   "metadata": {},
   "outputs": [],
   "source": [
    "#Interpolación vía Splines Cúbicos\n",
    "\n",
    "import numpy as np\n",
    "x_list = [1,2,5,6,7,8,10]\n",
    "y_list = [3.0,3.7,3.9,4.2,5.7,6.6,5.7]\n",
    "\n",
    "#print(len(y_list))\n",
    "#print(len(x_list))\n",
    "\n",
    "n = len(x_list)-1 #3/h[] n=3\n",
    "\n",
    "x = np.zeros(n+1)\n",
    "\n",
    "a = np.zeros(n+1)\n",
    "b = np.zeros(n+1)\n",
    "c = np.zeros(n+1)\n",
    "d = np.zeros(n+1)\n",
    "\n",
    "l  = np.zeros(n+1)\n",
    "mu = np.zeros(n+1)\n",
    "z  = np.zeros(n+1)\n",
    "\n",
    "va = np.zeros(n+1)\n",
    "\n",
    "h = np.zeros(n)\n",
    "\n",
    "\n",
    "for i in range(0,len(x)):\n",
    "    x[i] = x_list[i]\n",
    "    a[i] = y_list[i]\n",
    "#print(x)\n",
    "#print(a)\n",
    "\n",
    "#step 1\n",
    "\n",
    "for i in range(0,n):\n",
    "    h[i]=x[i+1]-x[i]\n",
    "#print(h)\n",
    "\n",
    "#step 2\n",
    "\n",
    "for i in range(1,n):\n",
    "    va[i] = 3/h[i] * (a[i+1]-a[i]) - 3/h[i-1] * (a[i]-a[i-1])\n",
    "#print(va)\n",
    "\n",
    "\n",
    "#step 3, solucion del sistema de ecuaciones lineales\n",
    "\n",
    "l[0] = 1\n",
    "mu[0] = 0\n",
    "z[0] = 0\n",
    "\n",
    "for i in range(1,n):\n",
    "    l[i] = 2*(x[i+1]-x[i-1]) - h[i-1]*mu[i-1]\n",
    "    mu[i] = h[i]/l[i]\n",
    "    z[i] = (va[i]-h[i-1]*z[i-1])/l[i]\n",
    "        \n",
    "l[n] = 1\n",
    "z[n] = 0\n",
    "c[n] = 0\n",
    "\n",
    "for j in np.arange(n-1,-1,-1):\n",
    "    c[j] = z[j]-mu[j]*c[j+1]\n",
    "    b[j] = (a[j+1]-a[j])/h[j] - h[j]*(c[j+1]+2*c[j])/3\n",
    "    d[j] = (c[j+1]-c[j])/(3*h[j])\n",
    "\"\"\"\n",
    "print(\"\")\n",
    "print(\"\")\n",
    "print(\"aj = \",a)\n",
    "print(\"bj = \",b)\n",
    "print(\"cj = \",c)\n",
    "print(\"dj = \",d)\n",
    "\"\"\"\n",
    "\n",
    "x_array = np.linspace(min(x_list),max(x_list),1000)\n",
    "y_real = np.e**(x_array)\n",
    "\n",
    "y_array = []\n",
    "\n",
    "\n",
    "\n",
    "for i in range(0,len(x_array)):\n",
    "    for j in range(0,n):\n",
    "        if x[j]<=x_array[i]<x[j+1]:\n",
    "            s = a[j]+b[j]*(x_array[i]-x[j]) + c[j]*(x_array[i]-x[j])**2 + d[j]*(x_array[i]-x[j])**3\n",
    "            y_array.append(s)\n",
    "    if x_array[i]==x[n]:\n",
    "        s = a[n]+b[n]*(x_array[i]-x[n]) + c[n]*(x_array[i]-x[n])**2 + d[n]*(x_array[i]-x[n])**3\n",
    "        y_array.append(s)"
   ]
  },
  {
   "cell_type": "code",
   "execution_count": 14,
   "metadata": {},
   "outputs": [
    {
     "data": {
      "image/png": "[encoded data removed]",
      "text/plain": [
       "<Figure size 2160x576 with 1 Axes>"
      ]
     },
     "metadata": {},
     "output_type": "display_data"
    }
   ],
   "source": [
    "\n",
    "fig=plt.figure(figsize=(30,8))\n",
    "ax=plt.axes()\n",
    "ax.plot(x_list,y_list,'*')\n",
    "ax.plot(x_array,y_array,'-',)\n",
    "#ax.plot(x_array,y_real,'--')\n",
    "plt.show()\n"
   ]
  },
  {
   "cell_type": "code",
   "execution_count": null,
   "metadata": {},
   "outputs": [],
   "source": []
  }
 ],
 "metadata": {
  "kernelspec": {
   "display_name": "Python 3",
   "language": "python",
   "name": "python3"
  },
  "language_info": {
   "codemirror_mode": {
    "name": "ipython",
    "version": 3
   },
   "file_extension": ".py",
   "mimetype": "text/x-python",
   "name": "python",
   "nbconvert_exporter": "python",
   "pygments_lexer": "ipython3",
   "version": "3.6.5"
  }
 },
 "nbformat": 4,
 "nbformat_minor": 2
}
